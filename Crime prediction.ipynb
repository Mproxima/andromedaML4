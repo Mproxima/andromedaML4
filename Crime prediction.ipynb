{
 "cells": [
  {
   "cell_type": "code",
   "execution_count": 1,
   "metadata": {
    "collapsed": true
   },
   "outputs": [],
   "source": [
    "from matplotlib import pyplot\n",
    "from pandas import DataFrame\n",
    "from pandas import Series\n",
    "from sklearn.metrics import mean_squared_error\n",
    "from statsmodels.tsa.arima_model import ARIMA\n",
    "from math import sqrt"
   ]
  },
  {
   "cell_type": "code",
   "execution_count": 23,
   "metadata": {
    "collapsed": false
   },
   "outputs": [],
   "source": [
    "def difference(dataset, interval=1):\n",
    "    p = list()\n",
    "    for i in range(interval, len(dataset)):\n",
    "        value = dataset[i] - dataset[i - interval]\n",
    "        p.append(value)\n",
    "    return p"
   ]
  },
  {
   "cell_type": "code",
   "execution_count": 24,
   "metadata": {
    "collapsed": true
   },
   "outputs": [],
   "source": [
    "def inverse_difference(history, yhat, interval=1):\n",
    "    return yhat + history[-interval]"
   ]
  },
  {
   "cell_type": "code",
   "execution_count": 25,
   "metadata": {
    "collapsed": false
   },
   "outputs": [],
   "source": [
    "series = Series.from_csv('crime.csv')"
   ]
  },
  {
   "cell_type": "code",
   "execution_count": 26,
   "metadata": {
    "collapsed": false
   },
   "outputs": [
    {
     "data": {
      "text/plain": [
       "1959-01-01    35\n",
       "1959-02-01    32\n",
       "1959-03-01    30\n",
       "1959-04-01    31\n",
       "1959-05-01    44\n",
       "1959-06-01    29\n",
       "1959-07-01    45\n",
       "1959-08-01    43\n",
       "1959-09-01    38\n",
       "1959-10-01    27\n",
       "dtype: int64"
      ]
     },
     "execution_count": 26,
     "metadata": {},
     "output_type": "execute_result"
    }
   ],
   "source": [
    "series.head(10)"
   ]
  },
  {
   "cell_type": "code",
   "execution_count": 27,
   "metadata": {
    "collapsed": true
   },
   "outputs": [],
   "source": [
    "X = series.values"
   ]
  },
  {
   "cell_type": "code",
   "execution_count": 28,
   "metadata": {
    "collapsed": true
   },
   "outputs": [],
   "source": [
    "X = X.astype('float32')"
   ]
  },
  {
   "cell_type": "code",
   "execution_count": 29,
   "metadata": {
    "collapsed": true
   },
   "outputs": [],
   "source": [
    "train_size = int(len(X) * 0.50)\n",
    "train, test = X[0:train_size], X[train_size:]"
   ]
  },
  {
   "cell_type": "code",
   "execution_count": 30,
   "metadata": {
    "collapsed": true
   },
   "outputs": [],
   "source": [
    "history = [x for x in train]\n",
    "predictions = list()\n",
    "bias=0.409864"
   ]
  },
  {
   "cell_type": "code",
   "execution_count": 31,
   "metadata": {
    "collapsed": false
   },
   "outputs": [
    {
     "name": "stdout",
     "output_type": "stream",
     "text": [
      ">Predicted=46.558, Expected= 45\n",
      ">Predicted=34.484, Expected= 38\n",
      ">Predicted=35.112, Expected= 37\n",
      ">Predicted=48.262, Expected= 45\n",
      ">Predicted=51.632, Expected= 42\n",
      ">Predicted=37.059, Expected= 57\n",
      ">Predicted=31.613, Expected= 46\n",
      ">Predicted=45.586, Expected= 51\n",
      ">Predicted=42.120, Expected= 41\n",
      ">Predicted=48.468, Expected= 47\n",
      ">Predicted=34.468, Expected= 26\n",
      ">Predicted=41.871, Expected= 35\n",
      ">Predicted=35.734, Expected= 44\n",
      ">Predicted=39.891, Expected= 41\n",
      ">Predicted=34.353, Expected= 42\n",
      ">Predicted=29.961, Expected= 36\n",
      ">Predicted=36.095, Expected= 45\n",
      ">Predicted=39.972, Expected= 45\n",
      ">Predicted=39.183, Expected= 45\n",
      ">Predicted=45.151, Expected= 47\n",
      ">Predicted=38.325, Expected= 38\n",
      ">Predicted=47.410, Expected= 42\n",
      ">Predicted=33.621, Expected= 35\n",
      ">Predicted=30.324, Expected= 36\n",
      ">Predicted=42.158, Expected= 39\n",
      ">Predicted=43.539, Expected= 45\n",
      ">Predicted=41.323, Expected= 43\n",
      ">Predicted=41.323, Expected= 47\n",
      ">Predicted=59.155, Expected= 36\n",
      ">Predicted=44.599, Expected= 41\n",
      ">Predicted=45.504, Expected= 50\n",
      ">Predicted=38.172, Expected= 39\n",
      ">Predicted=37.363, Expected= 41\n",
      ">Predicted=45.222, Expected= 46\n",
      ">Predicted=42.363, Expected= 64\n",
      ">Predicted=56.417, Expected= 45\n",
      ">Predicted=47.135, Expected= 34\n",
      ">Predicted=52.020, Expected= 38\n",
      ">Predicted=41.939, Expected= 44\n",
      ">Predicted=47.282, Expected= 48\n",
      ">Predicted=26.367, Expected= 46\n",
      ">Predicted=34.585, Expected= 44\n",
      ">Predicted=44.145, Expected= 37\n",
      ">Predicted=41.641, Expected= 39\n",
      ">Predicted=42.474, Expected= 44\n",
      ">Predicted=36.345, Expected= 45\n",
      ">Predicted=45.128, Expected= 33\n",
      ">Predicted=45.860, Expected= 44\n",
      ">Predicted=45.446, Expected= 38\n",
      ">Predicted=47.663, Expected= 46\n",
      ">Predicted=38.445, Expected= 46\n",
      ">Predicted=42.121, Expected= 40\n",
      ">Predicted=35.484, Expected= 39\n",
      ">Predicted=36.261, Expected= 44\n",
      ">Predicted=39.127, Expected= 48\n",
      ">Predicted=45.130, Expected= 50\n",
      ">Predicted=43.268, Expected= 41\n",
      ">Predicted=47.468, Expected= 42\n",
      ">Predicted=36.551, Expected= 51\n",
      ">Predicted=40.921, Expected= 41\n",
      ">Predicted=50.410, Expected= 44\n",
      ">Predicted=39.603, Expected= 38\n",
      ">Predicted=41.442, Expected= 68\n",
      ">Predicted=45.511, Expected= 40\n",
      ">Predicted=64.655, Expected= 42\n",
      ">Predicted=46.147, Expected= 51\n",
      ">Predicted=34.172, Expected= 44\n",
      ">Predicted=38.046, Expected= 45\n",
      ">Predicted=44.182, Expected= 36\n",
      ">Predicted=48.693, Expected= 57\n",
      ">Predicted=46.058, Expected= 44\n",
      ">Predicted=44.490, Expected= 42\n",
      ">Predicted=37.489, Expected= 53\n",
      ">Predicted=38.750, Expected= 42\n",
      ">Predicted=44.295, Expected= 34\n",
      ">Predicted=45.808, Expected= 40\n",
      ">Predicted=33.595, Expected= 56\n",
      ">Predicted=43.425, Expected= 44\n",
      ">Predicted=38.410, Expected= 53\n",
      ">Predicted=45.784, Expected= 55\n",
      ">Predicted=46.098, Expected= 39\n",
      ">Predicted=40.673, Expected= 59\n",
      ">Predicted=38.575, Expected= 55\n",
      ">Predicted=43.952, Expected= 73\n",
      ">Predicted=48.228, Expected= 55\n",
      ">Predicted=50.433, Expected= 44\n",
      ">Predicted=41.402, Expected= 43\n",
      ">Predicted=42.411, Expected= 40\n",
      ">Predicted=51.409, Expected= 47\n",
      ">Predicted=41.406, Expected= 51\n",
      ">Predicted=44.401, Expected= 56\n",
      ">Predicted=38.465, Expected= 49\n",
      ">Predicted=68.525, Expected= 54\n",
      ">Predicted=40.361, Expected= 56\n",
      ">Predicted=42.307, Expected= 47\n",
      ">Predicted=51.396, Expected= 44\n",
      ">Predicted=44.440, Expected= 43\n",
      ">Predicted=45.414, Expected= 42\n",
      ">Predicted=36.422, Expected= 45\n",
      ">Predicted=57.364, Expected= 50\n",
      ">Predicted=44.465, Expected= 48\n",
      ">Predicted=42.374, Expected= 43\n",
      ">Predicted=53.401, Expected= 40\n",
      ">Predicted=42.532, Expected= 59\n",
      ">Predicted=34.090, Expected= 41\n",
      ">Predicted=40.315, Expected= 42\n",
      ">Predicted=56.384, Expected= 51\n",
      ">Predicted=44.477, Expected= 49\n",
      ">Predicted=53.338, Expected= 45\n",
      ">Predicted=55.538, Expected= 43\n",
      ">Predicted=39.554, Expected= 42\n",
      ">Predicted=59.370, Expected= 38\n",
      ">Predicted=55.747, Expected= 47\n",
      ">Predicted=73.481, Expected= 38\n",
      ">Predicted=55.317, Expected= 36\n",
      ">Predicted=43.868, Expected= 42\n",
      ">Predicted=43.351, Expected= 35\n",
      ">Predicted=40.168, Expected= 28\n",
      ">Predicted=47.004, Expected= 44\n",
      ">Predicted=51.305, Expected= 36\n",
      ">Predicted=55.859, Expected= 45\n",
      ">Predicted=48.941, Expected= 46\n",
      ">Predicted=54.279, Expected= 48\n",
      ">Predicted=56.144, Expected= 49\n",
      ">Predicted=47.089, Expected= 43\n",
      ">Predicted=44.223, Expected= 42\n",
      ">Predicted=43.316, Expected= 59\n",
      ">Predicted=43.144, Expected= 45\n",
      ">Predicted=45.552, Expected= 52\n",
      ">Predicted=50.746, Expected= 46\n",
      ">Predicted=48.222, Expected= 42\n",
      ">Predicted=43.123, Expected= 40\n",
      ">Predicted=40.265, Expected= 40\n",
      ">Predicted=59.410, Expected= 45\n",
      ">Predicted=40.733, Expected= 35\n",
      ">Predicted=42.103, Expected= 35\n",
      ">Predicted=51.042, Expected= 40\n",
      ">Predicted=48.802, Expected= 39\n",
      ">Predicted=44.819, Expected= 33\n",
      ">Predicted=42.652, Expected= 42\n",
      ">Predicted=42.347, Expected= 47\n",
      ">Predicted=38.725, Expected= 51\n",
      ">Predicted=48.260, Expected= 44\n",
      ">Predicted=38.219, Expected= 40\n",
      ">Predicted=36.537, Expected= 57\n",
      ">Predicted=43.772, Expected= 49\n",
      ">Predicted=35.893, Expected= 45\n",
      ">Predicted=29.124, Expected= 49\n",
      ">Predicted=46.059, Expected= 51\n",
      ">Predicted=36.987, Expected= 46\n",
      ">Predicted=46.257, Expected= 44\n",
      ">Predicted=46.326, Expected= 52\n",
      ">Predicted=48.913, Expected= 45\n",
      ">Predicted=49.160, Expected= 32\n",
      ">Predicted=41.967, Expected= 46\n",
      ">Predicted=42.657, Expected= 41\n",
      ">Predicted=59.328, Expected= 34\n",
      ">Predicted=43.335, Expected= 33\n",
      ">Predicted=51.315, Expected= 36\n",
      ">Predicted=44.855, Expected= 49\n",
      ">Predicted=42.694, Expected= 43\n",
      ">Predicted=40.505, Expected= 43\n",
      ">Predicted=40.695, Expected= 34\n",
      ">Predicted=44.844, Expected= 39\n",
      ">Predicted=34.837, Expected= 35\n",
      ">Predicted=35.410, Expected= 52\n",
      ">Predicted=42.030, Expected= 47\n",
      ">Predicted=40.098, Expected= 52\n",
      ">Predicted=34.724, Expected= 39\n",
      ">Predicted=43.028, Expected= 40\n",
      ">Predicted=47.205, Expected= 42\n",
      ">Predicted=50.896, Expected= 42\n",
      ">Predicted=43.472, Expected= 53\n",
      ">Predicted=41.322, Expected= 39\n",
      ">Predicted=57.309, Expected= 40\n",
      ">Predicted=47.688, Expected= 38\n",
      ">Predicted=44.240, Expected= 44\n",
      ">Predicted=49.304, Expected= 34\n",
      ">Predicted=49.809, Expected= 37\n",
      ">Predicted=44.834, Expected= 52\n",
      ">Predicted=45.065, Expected= 48\n",
      ">Predicted=52.849, Expected= 55\n",
      ">Predicted=45.740, Expected= 50\n"
     ]
    }
   ],
   "source": [
    "for i in range(len(test)):\n",
    "\n",
    "    months_in_year = 30\n",
    "    p = difference(history, months_in_year)\n",
    "\n",
    "    model = ARIMA(p, order=(1,0,0))\n",
    "    model_fit = model.fit(trend='nc', disp=0)\n",
    "    yhat = model_fit.forecast()[0]\n",
    "    yhat = bias + inverse_difference(history, yhat, months_in_year)\n",
    "\n",
    "    predictions.append(yhat)\n",
    "\n",
    "    obs = test[i]\n",
    "    history.append(obs)\n",
    "    print('>Predicted=%.3f, Expected=%3.f' % (yhat, obs))"
   ]
  },
  {
   "cell_type": "code",
   "execution_count": 32,
   "metadata": {
    "collapsed": false
   },
   "outputs": [
    {
     "name": "stdout",
     "output_type": "stream",
     "text": [
      "RMSE: 10.047\n"
     ]
    },
    {
     "data": {
      "image/png": "[encoded data removed]",
      "text/plain": [
       "<matplotlib.figure.Figure at 0x180917a3748>"
      ]
     },
     "metadata": {},
     "output_type": "display_data"
    }
   ],
   "source": [
    "mse = mean_squared_error(test, predictions)\n",
    "rmse = sqrt(mse)\n",
    "print('RMSE: %.3f' % rmse)\n",
    "pyplot.plot(test)\n",
    "pyplot.plot(predictions, color='red')\n",
    "pyplot.show()"
   ]
  },
  {
   "cell_type": "code",
   "execution_count": null,
   "metadata": {
    "collapsed": true
   },
   "outputs": [],
   "source": []
  }
 ],
 "metadata": {
  "anaconda-cloud": {},
  "kernelspec": {
   "display_name": "Python [default]",
   "language": "python",
   "name": "python3"
  },
  "language_info": {
   "codemirror_mode": {
    "name": "ipython",
    "version": 3
   },
   "file_extension": ".py",
   "mimetype": "text/x-python",
   "name": "python",
   "nbconvert_exporter": "python",
   "pygments_lexer": "ipython3",
   "version": "3.5.2"
  }
 },
 "nbformat": 4,
 "nbformat_minor": 1
}
